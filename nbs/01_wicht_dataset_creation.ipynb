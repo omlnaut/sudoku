{
 "cells": [
  {
   "cell_type": "code",
   "execution_count": 1,
   "metadata": {
    "Collapsed": "false"
   },
   "outputs": [],
   "source": [
    "import pandas as pd\n",
    "import numpy as np\n",
    "from pathlib import Path"
   ]
  },
  {
   "cell_type": "markdown",
   "metadata": {
    "Collapsed": "false"
   },
   "source": [
    "# Dataset wicht"
   ]
  },
  {
   "cell_type": "markdown",
   "metadata": {
    "Collapsed": "false"
   },
   "source": [
    "Goal: Create a dataframe that maps the img filenames to numpy arrays containing the ocr digits."
   ]
  },
  {
   "cell_type": "code",
   "execution_count": 2,
   "metadata": {
    "Collapsed": "false"
   },
   "outputs": [],
   "source": [
    "save_path =  Path('../data/wicht')\n",
    "raw_dir = save_path/'raw'\n"
   ]
  },
  {
   "cell_type": "markdown",
   "metadata": {
    "Collapsed": "false"
   },
   "source": [
    "Images and solutions (OCR) are paired as:\n",
    "- \\<name\\>.jpg\n",
    "- \\<name\\>.dat"
   ]
  },
  {
   "cell_type": "code",
   "execution_count": 3,
   "metadata": {
    "Collapsed": "false"
   },
   "outputs": [
    {
     "data": {
      "text/plain": [
       "([WindowsPath('../data/wicht/raw/image1.dat'),\n",
       "  WindowsPath('../data/wicht/raw/image1.jpg')],\n",
       " 406)"
      ]
     },
     "execution_count": 3,
     "metadata": {},
     "output_type": "execute_result"
    }
   ],
   "source": [
    "all_files = list(raw_dir.glob('*'))\n",
    "all_files[:2], len(all_files)"
   ]
  },
  {
   "cell_type": "code",
   "execution_count": 4,
   "metadata": {
    "Collapsed": "false"
   },
   "outputs": [
    {
     "data": {
      "text/plain": [
       "['image1', 'image10', 'image100', 'image1000', 'image1001']"
      ]
     },
     "execution_count": 4,
     "metadata": {},
     "output_type": "execute_result"
    }
   ],
   "source": [
    "names = [filename.name.split('.')[0] for filename in raw_dir.glob('*.dat')]\n",
    "assert len(names)*2==len(all_files)\n",
    "\n",
    "names[:5]"
   ]
  },
  {
   "cell_type": "markdown",
   "metadata": {
    "Collapsed": "false"
   },
   "source": [
    "### Extract solution from text description"
   ]
  },
  {
   "cell_type": "code",
   "execution_count": 5,
   "metadata": {
    "Collapsed": "false"
   },
   "outputs": [],
   "source": [
    "name = names[0]\n",
    "dat_path = raw_dir / (name+'.dat')"
   ]
  },
  {
   "cell_type": "code",
   "execution_count": 6,
   "metadata": {
    "Collapsed": "false"
   },
   "outputs": [],
   "source": [
    "text_description = dat_path.open('r').read()"
   ]
  },
  {
   "cell_type": "code",
   "execution_count": 7,
   "metadata": {
    "Collapsed": "false"
   },
   "outputs": [
    {
     "data": {
      "text/plain": [
       "'0 0 0 7 0 0 0 8 0 0 9 0 0 0 3 1 0 0 0 0 6 8 0 5 0 7 0 0 2 0 6 0 0 0 4 9 0 0 0 2 0 0 0 5 0 0 0 8 0 4 0 0 0 7 0 0 0 9 0 0 0 3 0 3 7 0 0 0 0 0 0 6 1 0 5 0 0 4 0 0 0'"
      ]
     },
     "execution_count": 7,
     "metadata": {},
     "output_type": "execute_result"
    }
   ],
   "source": [
    "' '.join([row.strip() for row in text_description.split('\\n')[2:-1]])"
   ]
  },
  {
   "cell_type": "code",
   "execution_count": 8,
   "metadata": {
    "Collapsed": "false"
   },
   "outputs": [],
   "source": [
    "def mat_from_text(text_description):\n",
    "    return ' '.join([row.strip() for row in text_description.split('\\n')[2:-1]])"
   ]
  },
  {
   "cell_type": "code",
   "execution_count": 9,
   "metadata": {
    "Collapsed": "false"
   },
   "outputs": [
    {
     "data": {
      "text/plain": [
       "'0 0 0 7 0 0 0 8 0 0 9 0 0 0 3 1 0 0 0 0 6 8 0 5 0 7 0 0 2 0 6 0 0 0 4 9 0 0 0 2 0 0 0 5 0 0 0 8 0 4 0 0 0 7 0 0 0 9 0 0 0 3 0 3 7 0 0 0 0 0 0 6 1 0 5 0 0 4 0 0 0'"
      ]
     },
     "execution_count": 9,
     "metadata": {},
     "output_type": "execute_result"
    }
   ],
   "source": [
    "mat = mat_from_text(text_description)\n",
    "assert len(mat.split(' '))==81\n",
    "mat"
   ]
  },
  {
   "cell_type": "markdown",
   "metadata": {
    "Collapsed": "false"
   },
   "source": [
    "### All files"
   ]
  },
  {
   "cell_type": "code",
   "execution_count": 10,
   "metadata": {
    "Collapsed": "false"
   },
   "outputs": [],
   "source": [
    "pairs = []\n",
    "\n",
    "for name in names:\n",
    "    file_path = raw_dir / (name+'.jpg')\n",
    "    dat_path = raw_dir / (name+'.dat')\n",
    "    ocr = mat_from_text(dat_path.open('r').read())\n",
    "    \n",
    "    pairs.append((file_path, ocr))"
   ]
  },
  {
   "cell_type": "code",
   "execution_count": 11,
   "metadata": {
    "Collapsed": "false"
   },
   "outputs": [
    {
     "data": {
      "text/plain": [
       "(WindowsPath('../data/wicht/raw/image1.jpg'),\n",
       " '0 0 0 7 0 0 0 8 0 0 9 0 0 0 3 1 0 0 0 0 6 8 0 5 0 7 0 0 2 0 6 0 0 0 4 9 0 0 0 2 0 0 0 5 0 0 0 8 0 4 0 0 0 7 0 0 0 9 0 0 0 3 0 3 7 0 0 0 0 0 0 6 1 0 5 0 0 4 0 0 0')"
      ]
     },
     "execution_count": 11,
     "metadata": {},
     "output_type": "execute_result"
    }
   ],
   "source": [
    "pairs[0]"
   ]
  },
  {
   "cell_type": "code",
   "execution_count": 12,
   "metadata": {
    "Collapsed": "false"
   },
   "outputs": [
    {
     "data": {
      "text/html": [
       "<div>\n",
       "<style scoped>\n",
       "    .dataframe tbody tr th:only-of-type {\n",
       "        vertical-align: middle;\n",
       "    }\n",
       "\n",
       "    .dataframe tbody tr th {\n",
       "        vertical-align: top;\n",
       "    }\n",
       "\n",
       "    .dataframe thead th {\n",
       "        text-align: right;\n",
       "    }\n",
       "</style>\n",
       "<table border=\"1\" class=\"dataframe\">\n",
       "  <thead>\n",
       "    <tr style=\"text-align: right;\">\n",
       "      <th></th>\n",
       "      <th>path</th>\n",
       "      <th>ocr</th>\n",
       "    </tr>\n",
       "  </thead>\n",
       "  <tbody>\n",
       "    <tr>\n",
       "      <th>0</th>\n",
       "      <td>..\\data\\wicht\\raw\\image1.jpg</td>\n",
       "      <td>0 0 0 7 0 0 0 8 0 0 9 0 0 0 3 1 0 0 0 0 6 8 0 ...</td>\n",
       "    </tr>\n",
       "    <tr>\n",
       "      <th>1</th>\n",
       "      <td>..\\data\\wicht\\raw\\image10.jpg</td>\n",
       "      <td>0 4 2 0 0 0 0 0 5 0 0 0 6 3 2 0 8 0 0 8 0 0 4 ...</td>\n",
       "    </tr>\n",
       "    <tr>\n",
       "      <th>2</th>\n",
       "      <td>..\\data\\wicht\\raw\\image100.jpg</td>\n",
       "      <td>5 3 0 0 7 0 0 0 8 0 0 0 0 0 4 9 2 5 0 0 0 0 2 ...</td>\n",
       "    </tr>\n",
       "    <tr>\n",
       "      <th>3</th>\n",
       "      <td>..\\data\\wicht\\raw\\image1000.jpg</td>\n",
       "      <td>0 0 6 0 7 0 0 0 0 0 4 0 0 0 0 0 0 7 0 7 0 5 0 ...</td>\n",
       "    </tr>\n",
       "    <tr>\n",
       "      <th>4</th>\n",
       "      <td>..\\data\\wicht\\raw\\image1001.jpg</td>\n",
       "      <td>0 9 0 0 5 4 2 7 6 7 0 0 8 0 6 5 0 0 5 6 0 2 0 ...</td>\n",
       "    </tr>\n",
       "  </tbody>\n",
       "</table>\n",
       "</div>"
      ],
      "text/plain": [
       "                              path  \\\n",
       "0     ..\\data\\wicht\\raw\\image1.jpg   \n",
       "1    ..\\data\\wicht\\raw\\image10.jpg   \n",
       "2   ..\\data\\wicht\\raw\\image100.jpg   \n",
       "3  ..\\data\\wicht\\raw\\image1000.jpg   \n",
       "4  ..\\data\\wicht\\raw\\image1001.jpg   \n",
       "\n",
       "                                                 ocr  \n",
       "0  0 0 0 7 0 0 0 8 0 0 9 0 0 0 3 1 0 0 0 0 6 8 0 ...  \n",
       "1  0 4 2 0 0 0 0 0 5 0 0 0 6 3 2 0 8 0 0 8 0 0 4 ...  \n",
       "2  5 3 0 0 7 0 0 0 8 0 0 0 0 0 4 9 2 5 0 0 0 0 2 ...  \n",
       "3  0 0 6 0 7 0 0 0 0 0 4 0 0 0 0 0 0 7 0 7 0 5 0 ...  \n",
       "4  0 9 0 0 5 4 2 7 6 7 0 0 8 0 6 5 0 0 5 6 0 2 0 ...  "
      ]
     },
     "execution_count": 12,
     "metadata": {},
     "output_type": "execute_result"
    }
   ],
   "source": [
    "df = pd.DataFrame(pairs, columns=['path', 'ocr'])\n",
    "df.head()"
   ]
  },
  {
   "cell_type": "code",
   "execution_count": 13,
   "metadata": {
    "Collapsed": "false"
   },
   "outputs": [],
   "source": [
    "df.to_pickle(save_path/'wicht.pkl')"
   ]
  },
  {
   "cell_type": "code",
   "execution_count": null,
   "metadata": {
    "Collapsed": "false"
   },
   "outputs": [],
   "source": []
  }
 ],
 "metadata": {
  "kernelspec": {
   "display_name": "fastai2",
   "language": "python",
   "name": "fastai2"
  },
  "language_info": {
   "codemirror_mode": {
    "name": "ipython",
    "version": 3
   },
   "file_extension": ".py",
   "mimetype": "text/x-python",
   "name": "python",
   "nbconvert_exporter": "python",
   "pygments_lexer": "ipython3",
   "version": "3.7.7"
  }
 },
 "nbformat": 4,
 "nbformat_minor": 4
}
